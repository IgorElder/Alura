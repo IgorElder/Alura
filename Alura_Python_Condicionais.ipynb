{
  "nbformat": 4,
  "nbformat_minor": 0,
  "metadata": {
    "colab": {
      "provenance": [],
      "name": "Alura_Python_Condicionais.ipynb"
    },
    "kernelspec": {
      "name": "python3",
      "display_name": "Python 3"
    },
    "language_info": {
      "name": "python"
    }
  },
  "cells": [
    {
      "cell_type": "code",
      "execution_count": null,
      "metadata": {
        "colab": {
          "base_uri": "https://localhost:8080/"
        },
        "id": "NWrihKkQiRFT",
        "outputId": "e2a44c0f-085e-4226-a6ef-b0e2168cddf6"
      },
      "outputs": [
        {
          "output_type": "stream",
          "name": "stdout",
          "text": [
            "Digite a quantidade de maças vendidas: 10\n",
            "Digite a quantidade de bananas vendidas: 10\n",
            "Houve empate de vendas\n"
          ]
        }
      ],
      "source": [
        "macas = input('Digite a quantidade de maças vendidas: ')\n",
        "bananas = input('Digite a quantidade de bananas vendidas: ')\n",
        "\n",
        "if macas>bananas:\n",
        "  print('As maças tiveram mais vendas')\n",
        "elif bananas>macas:\n",
        "  print('As bananas tiveram mais vendas')\n",
        "else:\n",
        "  print('Houve empate de vendas')"
      ]
    },
    {
      "cell_type": "code",
      "source": [
        "tempo_A = int( input('Informe os dias para a atividade A: '))\n",
        "tempo_B = int( input('Informe os dias para a atividade B: ') )\n",
        "tempo_C = int( input('Informe os dias para a atividade C: '))\n",
        "\n",
        "if tempo_A > 0 and tempo_B > 0 and tempo_C > 0:\n",
        "  print('A duração total das tarefas é: ', tempo_B + tempo_A + tempo_C)\n",
        "else:\n",
        "  print('Os dias não podem ser negativos')"
      ],
      "metadata": {
        "colab": {
          "base_uri": "https://localhost:8080/"
        },
        "id": "5GVDafVmkOJ6",
        "outputId": "d842c835-3097-4cfa-ce0c-bcc90fef5fe9"
      },
      "execution_count": null,
      "outputs": [
        {
          "output_type": "stream",
          "name": "stdout",
          "text": [
            "Informe os dias para a atividade A: -8\n",
            "Informe os dias para a atividade B: 20\n",
            "Informe os dias para a atividade C: 32\n",
            "Os dias não podem ser negativos\n"
          ]
        }
      ]
    },
    {
      "cell_type": "code",
      "source": [
        "Temp = int(input('Digite a temperatura atual: '))\n",
        "\n",
        "if Temp > 25:\n",
        "  print('Alerta!Temperatura acima do limite')"
      ],
      "metadata": {
        "colab": {
          "base_uri": "https://localhost:8080/"
        },
        "id": "BGlaIB5KoHLH",
        "outputId": "c7236968-609e-4b4b-a682-bba95c091cb8"
      },
      "execution_count": null,
      "outputs": [
        {
          "output_type": "stream",
          "name": "stdout",
          "text": [
            "Digite a temperatura atual: 26\n",
            "Alerta!Temperatura acima do limite\n"
          ]
        }
      ]
    },
    {
      "cell_type": "code",
      "source": [
        "peso = int(input('Digite seu peso (kg): '))\n",
        "altura = float(input('Digite sua altura (m): '))\n",
        "\n",
        "imc = peso/(pow(altura,2))\n",
        "\n",
        "print('Seu IMC é: ',round( imc,2))\n",
        "\n",
        "if imc < 18.5:\n",
        "  print('Abaixo do peso')\n",
        "elif imc <25:\n",
        "  print('Peso normal')\n",
        "else:\n",
        "  print('Acima do peso')"
      ],
      "metadata": {
        "colab": {
          "base_uri": "https://localhost:8080/"
        },
        "id": "QaZ_uhFJog5b",
        "outputId": "6b280c2f-b862-4c73-8566-1c3f6c82f8fb"
      },
      "execution_count": null,
      "outputs": [
        {
          "output_type": "stream",
          "name": "stdout",
          "text": [
            "Digite seu peso (kg): 97\n",
            "Digite sua altura (m): 1.86\n",
            "Seu IMC é:  28.04\n",
            "Acima do peso\n"
          ]
        }
      ]
    },
    {
      "cell_type": "code",
      "source": [
        "Gastos = float(input('Digite o total de despesas do mes:'))\n",
        "\n",
        "if Gastos > 3000:\n",
        "  print('Atenção! voce ultrapassou o limite')\n",
        "else:\n",
        "  print('Dentro do limite')"
      ],
      "metadata": {
        "colab": {
          "base_uri": "https://localhost:8080/"
        },
        "id": "itZVJr7lpRoN",
        "outputId": "bbdec0dc-e953-4806-e870-23d640e22d16"
      },
      "execution_count": null,
      "outputs": [
        {
          "output_type": "stream",
          "name": "stdout",
          "text": [
            "Digite o total de despesas do mes:200\n",
            "É dentro papai\n"
          ]
        }
      ]
    },
    {
      "cell_type": "code",
      "source": [
        "horas_entrada = int(input('Digite a hora de entrada: '))\n",
        "\n",
        "if horas_entrada >= 8 and horas_entrada < 18:\n",
        "  print('Acesso concedido')\n",
        "else:\n",
        "  print('Acesso negado')"
      ],
      "metadata": {
        "colab": {
          "base_uri": "https://localhost:8080/"
        },
        "id": "Hlo54JBJqRv0",
        "outputId": "5ca7f49b-8f35-47b0-cfd6-c1ddaa45b723"
      },
      "execution_count": null,
      "outputs": [
        {
          "output_type": "stream",
          "name": "stdout",
          "text": [
            "Digite a hora de entrada: 5\n",
            "Acesso negado\n"
          ]
        }
      ]
    },
    {
      "cell_type": "code",
      "source": [
        "nota_1 = float(input('digite a primeira nota: '))\n",
        "nota_2 = float(input('digite a segunda nota: '))\n",
        "nota_3 = float(input('digite a terceira nota: '))\n",
        "\n",
        "media = (nota_1 + nota_2 + nota_3)/3\n",
        "\n",
        "print(f'Média: {round( media,2)}')\n",
        "if media < 5:\n",
        "  print('Reprovado')\n",
        "elif media < 7:\n",
        "  print('Recuperação')\n",
        "else:\n",
        "  print('Aprovado')"
      ],
      "metadata": {
        "colab": {
          "base_uri": "https://localhost:8080/"
        },
        "id": "IvluHMp9qs8w",
        "outputId": "cef3f9ab-21a7-4963-81f2-6ecf54afd260"
      },
      "execution_count": null,
      "outputs": [
        {
          "output_type": "stream",
          "name": "stdout",
          "text": [
            "digite a primeira nota: 3\n",
            "digite a segunda nota: 2\n",
            "digite a terceira nota: 1\n",
            "Média: 2.0\n",
            "Reprovado\n"
          ]
        }
      ]
    },
    {
      "cell_type": "code",
      "source": [
        "distancia = int(input('Digite o valor da distancia percorrida(km): '))\n",
        "\n",
        "\n",
        "if distancia > 200:\n",
        "  pedagio = 30\n",
        "elif distancia > 100:\n",
        "  pedagio = 20\n",
        "else:\n",
        "  pedagio = 10\n",
        "\n",
        "print(f'Valor do pedagio: R$ {pedagio:.2f}')"
      ],
      "metadata": {
        "colab": {
          "base_uri": "https://localhost:8080/"
        },
        "id": "-sdsv-2ZrqZ4",
        "outputId": "e3886269-5a07-4e9f-ead3-d0a1422b1274"
      },
      "execution_count": null,
      "outputs": [
        {
          "output_type": "stream",
          "name": "stdout",
          "text": [
            "Digite o valor da distancia percorrida(km): 20\n",
            "Valor do pedagio: R$ 10.00\n"
          ]
        }
      ]
    },
    {
      "cell_type": "code",
      "source": [
        "num = int(input('Digite um numero inteiro:'))\n",
        "\n",
        "if num % 2 == 0:\n",
        "  print('O numero é par')\n",
        "else:\n",
        "  print('O numero é impar')"
      ],
      "metadata": {
        "colab": {
          "base_uri": "https://localhost:8080/"
        },
        "id": "LJSHXZJhs_Mc",
        "outputId": "52811651-b56b-421c-9812-d855468f10bb"
      },
      "execution_count": null,
      "outputs": [
        {
          "output_type": "stream",
          "name": "stdout",
          "text": [
            "Digite um numero inteiro:5\n",
            "O numero é impar\n"
          ]
        }
      ]
    },
    {
      "cell_type": "code",
      "source": [
        "renda = int(input('Digite sua renda mensal: '))\n",
        "parcela = int(input( 'Digite o valor da parcela mensal: '))\n",
        "\n",
        "renda_min = 2000\n",
        "parcela_max = 0.3*renda\n",
        "\n",
        "if renda < renda_min:\n",
        "  print(f'Emprestimo negado renda inferior a {renda_min}')\n",
        "elif parcela > parcela_max:\n",
        "  print(f'Emprestimo negado parcela superior a {parcela_max}')\n",
        "else:\n",
        "  print('Emprestimo aprovado')"
      ],
      "metadata": {
        "colab": {
          "base_uri": "https://localhost:8080/"
        },
        "id": "80l41FUhtSmy",
        "outputId": "820991ab-6c4b-4648-8bea-dd8945cde568"
      },
      "execution_count": null,
      "outputs": [
        {
          "output_type": "stream",
          "name": "stdout",
          "text": [
            "Digite sua renda mensal: 2500\n",
            "Digite o valor da parcela mensal: 800\n",
            "Emprestimo negado parcela superior a 750.0\n"
          ]
        }
      ]
    },
    {
      "cell_type": "code",
      "source": [],
      "metadata": {
        "id": "UeAhEW0tuQzp"
      },
      "execution_count": null,
      "outputs": []
    }
  ]
}