{
  "nbformat": 4,
  "nbformat_minor": 0,
  "metadata": {
    "colab": {
      "provenance": []
    },
    "kernelspec": {
      "name": "python3",
      "display_name": "Python 3"
    },
    "language_info": {
      "name": "python"
    }
  },
  "cells": [
    {
      "cell_type": "markdown",
      "source": [
        "Ana está desenvolvendo um programa que precisa processar uma lista de 5 nomes de clientes para gerar relatórios mensais. Para isso, ela precisa escrever um programa que percorra a lista de nomes e exiba cada cliente.\n",
        "\n",
        "Ajude Ana a decidir entre usar um laço for ou while. Escreva o programa usando o laço que você acredita ser mais adequado para essa tarefa e explique por que escolheu esse laço"
      ],
      "metadata": {
        "id": "5fbPhji97Xxa"
      }
    },
    {
      "cell_type": "code",
      "execution_count": 2,
      "metadata": {
        "colab": {
          "base_uri": "https://localhost:8080/"
        },
        "id": "6KW4BtAq3sgJ",
        "outputId": "0fb18694-cdd4-4c42-c917-e5b11fa4572e"
      },
      "outputs": [
        {
          "output_type": "stream",
          "name": "stdout",
          "text": [
            "João\n",
            "Maria\n",
            "Carlos\n",
            "Ana\n",
            "Beatriz\n"
          ]
        }
      ],
      "source": [
        "clientes = [\"João\", \"Maria\", \"Carlos\", \"Ana\", \"Beatriz\"]\n",
        "#for é melhor pra percorrer vetores\n",
        "for c in clientes:\n",
        "  print(c)"
      ]
    },
    {
      "cell_type": "markdown",
      "source": [
        "André está testando um novo recurso no backend do Buscante que processa dados em um loop. Durante os testes, ele percebeu que o sistema parou de responder, e suspeita que o problema está em um loop infinito."
      ],
      "metadata": {
        "id": "Yvta3--d7dNj"
      }
    },
    {
      "cell_type": "code",
      "source": [
        "contador = 0\n",
        "\n",
        "while contador < 10:\n",
        "  print('Processando dados...')\n",
        "  contador += 1 # Faltava alteração do contador"
      ],
      "metadata": {
        "colab": {
          "base_uri": "https://localhost:8080/"
        },
        "id": "xMHFs56Z37bO",
        "outputId": "835aae42-036a-43bb-ee7d-63ee422781e3"
      },
      "execution_count": 3,
      "outputs": [
        {
          "output_type": "stream",
          "name": "stdout",
          "text": [
            "Processando dados...\n",
            "Processando dados...\n",
            "Processando dados...\n",
            "Processando dados...\n",
            "Processando dados...\n",
            "Processando dados...\n",
            "Processando dados...\n",
            "Processando dados...\n",
            "Processando dados...\n",
            "Processando dados...\n"
          ]
        }
      ]
    },
    {
      "cell_type": "markdown",
      "source": [
        "Marcos está desenvolvendo um programa para exibir uma mensagem de boas-vindas repetidamente no console, como parte de uma campanha de marketing de sua plataforma chamada Buscante. Ele quer garantir que a mensagem seja exibida 5 vezes.\n",
        "\n",
        "Ajude Marcos a escrever um programa que exiba a mensagem: \"Bem-vindo ao Buscante!\" o número exato de vezes que ele precisa"
      ],
      "metadata": {
        "id": "ecZCNLTt7jWR"
      }
    },
    {
      "cell_type": "code",
      "source": [
        "contador = 0\n",
        "\n",
        "while contador < 5:\n",
        "  print('Bem vindo ao buscante')\n",
        "  contador += 1"
      ],
      "metadata": {
        "colab": {
          "base_uri": "https://localhost:8080/"
        },
        "id": "oBFmFl344ZDh",
        "outputId": "f6a7c011-9b12-41a9-f8ad-75765a8df05f"
      },
      "execution_count": 4,
      "outputs": [
        {
          "output_type": "stream",
          "name": "stdout",
          "text": [
            "Bem vindo ao buscante\n",
            "Bem vindo ao buscante\n",
            "Bem vindo ao buscante\n",
            "Bem vindo ao buscante\n",
            "Bem vindo ao buscante\n"
          ]
        }
      ]
    },
    {
      "cell_type": "code",
      "source": [
        "for i in range(0,5):\n",
        "   print('Bem vindo ao buscante')"
      ],
      "metadata": {
        "colab": {
          "base_uri": "https://localhost:8080/"
        },
        "id": "INXX7L_744lN",
        "outputId": "aaed9197-01e6-47a6-8dbd-a424a59417d9"
      },
      "execution_count": 5,
      "outputs": [
        {
          "output_type": "stream",
          "name": "stdout",
          "text": [
            "Bem vindo ao buscante\n",
            "Bem vindo ao buscante\n",
            "Bem vindo ao buscante\n",
            "Bem vindo ao buscante\n",
            "Bem vindo ao buscante\n"
          ]
        }
      ]
    },
    {
      "cell_type": "markdown",
      "source": [
        "João recebeu uma lista de valores representando as receitas de sua loja de roupas. Ele quer calcular a soma total dessas receitas para entender o desempenho financeiro semanal.\n",
        "\n",
        "Crie um programa que ajude João a calcular o valor total."
      ],
      "metadata": {
        "id": "i4G0kucp7pdY"
      }
    },
    {
      "cell_type": "code",
      "source": [
        "valores = [10, 20, 30, 40, 50]\n",
        "soma = 0\n",
        "for v in valores:\n",
        "  soma += v\n",
        "\n",
        "print(f'A soma total das receitas é: {soma}')"
      ],
      "metadata": {
        "colab": {
          "base_uri": "https://localhost:8080/"
        },
        "id": "WAxdM5gc5Efz",
        "outputId": "5debd7f4-3fbd-4451-acaa-0c1a410f90b9"
      },
      "execution_count": 6,
      "outputs": [
        {
          "output_type": "stream",
          "name": "stdout",
          "text": [
            "A soma total das receitas é: 150\n"
          ]
        }
      ]
    },
    {
      "cell_type": "markdown",
      "source": [
        "Ana está desenvolvendo seu portfólio para exibir os projetos de Python que concluiu. Ela organizou uma lista com o nome de cada projeto, mas percebeu que alguns itens podem estar ausentes, aparecendo como None:\n",
        "\n",
        "Crie um programa que ajude Ana a percorrer a lista de projetos e exiba os nomes dos projetos válidos. Se encontrar um item None, o programa deve exibir a mensagem: \"Projeto ausente\"."
      ],
      "metadata": {
        "id": "CyT8QjPf7rfc"
      }
    },
    {
      "cell_type": "code",
      "source": [
        "projetos = [\"website\", \"jogo\", \"análise de dados\", None, \"aplicativo móvel\"]\n",
        "\n",
        "for p in projetos:\n",
        "  if p is None:\n",
        "    print('Projeto Ausente')\n",
        "  else:\n",
        "    print(p)"
      ],
      "metadata": {
        "colab": {
          "base_uri": "https://localhost:8080/"
        },
        "id": "T2HNtvNh5TYp",
        "outputId": "7dd15e12-b172-4566-db94-1e8c0ed25fbc"
      },
      "execution_count": 7,
      "outputs": [
        {
          "output_type": "stream",
          "name": "stdout",
          "text": [
            "website\n",
            "jogo\n",
            "análise de dados\n",
            "Projeto Ausente\n",
            "aplicativo móvel\n"
          ]
        }
      ]
    },
    {
      "cell_type": "markdown",
      "source": [
        "José está desenvolvendo uma funcionalidade no sistema do Buscante para interromper a busca assim que um livro específico é encontrado. A lista de livros já cadastrados no sistema é a seguinte\n",
        "\n",
        "livros = [\"1984\", \"Dom Casmurro\", \"O Pequeno Príncipe\", \"O Hobbit\", \"Orgulho e Preconceito\"]\n",
        "\n",
        "Ajude José a criar um programa que percorra a lista e exiba a mensagem \"Livro encontrado: <nome do livro>\" assim que o livro \"O Hobbit\" for encontrado. Após encontrar o livro, o programa deve parar imediatamente a busca, sem verificar os livros restantes."
      ],
      "metadata": {
        "id": "0_gI-big7vw-"
      }
    },
    {
      "cell_type": "code",
      "source": [
        "livros = [\"1984\", \"Dom Casmurro\", \"O Pequeno Príncipe\", \"O Hobbit\", \"Orgulho e Preconceito\"]\n",
        "\n",
        "for l in livros:\n",
        "  if l == \"O Hobbit\":\n",
        "    print('Livro encontrado: ',l)\n",
        "    break"
      ],
      "metadata": {
        "colab": {
          "base_uri": "https://localhost:8080/"
        },
        "id": "QmdWmMFz5i94",
        "outputId": "04960bea-2765-43ab-8172-c2879cfc0b10"
      },
      "execution_count": 9,
      "outputs": [
        {
          "output_type": "stream",
          "name": "stdout",
          "text": [
            "Livro encontrado:  O Hobbit\n"
          ]
        }
      ]
    },
    {
      "cell_type": "markdown",
      "source": [
        "Você está desenvolvendo um sistema de controle de estoque para o Buscante. Um dos requisitos é verificar a quantidade de exemplares de um livro em estoque e continuar vendendo até que o estoque se esgote. Sempre que uma venda é realizada, o sistema deve informar o usuário e atualizar a quantidade disponível.\n",
        "\n",
        "Crie um programa que simule as vendas de um livro com o estoque inicial de 5 exemplares. O programa deve exibir a mensagem \"Venda realizada! Estoque restante: <quantidade>\" a cada venda e, ao final, exibir a mensagem \"Estoque esgotado\""
      ],
      "metadata": {
        "id": "wIirh--C716B"
      }
    },
    {
      "cell_type": "code",
      "source": [
        "Estoque = 5\n",
        "\n",
        "while Estoque >= 0:\n",
        "  if Estoque > 0:\n",
        "    print('Venda Realizada! Estoque restante: ',Estoque)\n",
        "  else:\n",
        "    print('Estoque esgotado')\n",
        "  Estoque -=  1"
      ],
      "metadata": {
        "colab": {
          "base_uri": "https://localhost:8080/"
        },
        "id": "xaCrvUHN6GVy",
        "outputId": "14a5e91d-d006-4aa3-eac5-267f5ffc9522"
      },
      "execution_count": 14,
      "outputs": [
        {
          "output_type": "stream",
          "name": "stdout",
          "text": [
            "Venda Realizada! Estoque restante:  5\n",
            "Venda Realizada! Estoque restante:  4\n",
            "Venda Realizada! Estoque restante:  3\n",
            "Venda Realizada! Estoque restante:  2\n",
            "Venda Realizada! Estoque restante:  1\n",
            "Estoque esgotado\n"
          ]
        }
      ]
    },
    {
      "cell_type": "markdown",
      "source": [
        "Aline está implementando uma funcionalidade que exibe mensagens personalizadas para os clientes durante uma promoção especial da sua nova loja de livros. O sistema deve exibir uma mensagem de contagem regressiva personalizada para cada número de 10 até 1, e ao final exibir a mensagem: \"Aproveite a promoção agora!\".\n",
        "\n",
        "Crie um programa que utilize um laço for para exibir as seguintes mensagens:\n",
        "\n",
        "Para números pares, exiba: \"Faltam apenas <número> segundos - Não perca essa oportunidade!\".\n",
        "Para números ímpares, exiba: \"A contagem continua: <número> segundos restantes.\".\n",
        "Ao final da contagem, exiba a mensagem: \"Aproveite a promoção agora!\"."
      ],
      "metadata": {
        "id": "HdtvT5c176JE"
      }
    },
    {
      "cell_type": "code",
      "source": [
        "contador = 10\n",
        "\n",
        "while contador > 0:\n",
        "  if contador%2 == 0:\n",
        "    print(f'Faltam apenas {contador} segundos - Não perca essa oportunidade!')\n",
        "  else:\n",
        "    print(f'A contagem continua: {contador} segundos restantes.')\n",
        "  contador -= 1\n",
        "print('Aproveite a promoção agora!')\n"
      ],
      "metadata": {
        "colab": {
          "base_uri": "https://localhost:8080/"
        },
        "id": "eQhKkUE_6-uT",
        "outputId": "dc330ce3-17e8-4b83-cb2c-f30d0dcd663a"
      },
      "execution_count": 16,
      "outputs": [
        {
          "output_type": "stream",
          "name": "stdout",
          "text": [
            "Faltam apenas 10 segundos - Não perca essa oportunidade!\n",
            "A contagem continua: 9 segundos restantes.\n",
            "Faltam apenas 8 segundos - Não perca essa oportunidade!\n",
            "A contagem continua: 7 segundos restantes.\n",
            "Faltam apenas 6 segundos - Não perca essa oportunidade!\n",
            "A contagem continua: 5 segundos restantes.\n",
            "Faltam apenas 4 segundos - Não perca essa oportunidade!\n",
            "A contagem continua: 3 segundos restantes.\n",
            "Faltam apenas 2 segundos - Não perca essa oportunidade!\n",
            "A contagem continua: 1 segundos restantes.\n",
            "Aproveite a promoção agora!\n"
          ]
        }
      ]
    },
    {
      "cell_type": "markdown",
      "source": [
        "Ana está implementando um sistema de filtragem de livros no Buscante. A funcionalidade deve percorrer uma lista de livros e exibir o nome de cada livro disponível em estoque. No entanto, se o livro estiver esgotado, ele deve ser ignorado durante a iteração.\n",
        "\n",
        "Crie um programa que ajude Ana a exibir somente os livros que possuem estoque disponível, no formato: \"Livro disponível: \""
      ],
      "metadata": {
        "id": "oY3tQm8P8ndq"
      }
    },
    {
      "cell_type": "code",
      "source": [
        "livros = [\n",
        "    {\"nome\": \"1984\", \"estoque\": 5},\n",
        "    {\"nome\": \"Dom Casmurro\", \"estoque\": 0},\n",
        "    {\"nome\": \"O Pequeno Príncipe\", \"estoque\": 3},\n",
        "    {\"nome\": \"O Hobbit\", \"estoque\": 0},\n",
        "    {\"nome\": \"Orgulho e Preconceito\", \"estoque\": 2}\n",
        "]\n",
        "\n",
        "for l in livros:\n",
        "  if l['estoque'] > 0:\n",
        "    print(f'livro disponivel: {l[\"nome\"]}')"
      ],
      "metadata": {
        "colab": {
          "base_uri": "https://localhost:8080/"
        },
        "id": "Lk_15N7x8gDO",
        "outputId": "d9a6a0b4-0c7a-4441-86c7-5846a5140bdb"
      },
      "execution_count": 18,
      "outputs": [
        {
          "output_type": "stream",
          "name": "stdout",
          "text": [
            "livro disponivel: 1984\n",
            "livro disponivel: O Pequeno Príncipe\n",
            "livro disponivel: Orgulho e Preconceito\n"
          ]
        }
      ]
    },
    {
      "cell_type": "markdown",
      "source": [
        "João está desenvolvendo um sistema de cadastro para um site de leitura. Ele precisa garantir que os usuários insiram um nome de usuário e uma senha válidos. As regras são as seguintes:\n",
        "\n",
        "O nome de usuário deve ter pelo menos 5 caracteres.\n",
        "A senha deve ter pelo menos 8 caracteres.\n",
        "João quer que o sistema continue solicitando as informações até que ambas as condições sejam atendidas. Quando o usuário insere dados válidos, o programa deve exibir a mensagem: \"Cadastro realizado com sucesso!\".\n",
        "\n",
        "Crie um programa que implemente essa lógica usando um laço while"
      ],
      "metadata": {
        "id": "yxb0cxke9Gam"
      }
    },
    {
      "cell_type": "code",
      "source": [
        "\n",
        "while True:\n",
        "  nome = input('Digite seu nome de usuario: ')\n",
        "  senha = input('Digite sua senha:' )\n",
        "  min_nome = 5\n",
        "  min_senha = 8\n",
        "  if(len(nome)< min_nome):\n",
        "    print(f'Nome de usuario deve ter pelo menos {min_nome} caracteres')\n",
        "  elif (len(senha)<min_senha):\n",
        "    print(f'Senha deve ter pelo menos {min_senha} caracteres')\n",
        "  else:\n",
        "    print(f'Cadastro realizado com sucesso')\n",
        "    break"
      ],
      "metadata": {
        "colab": {
          "base_uri": "https://localhost:8080/"
        },
        "id": "EgfTiGbf9CkZ",
        "outputId": "4f0c868f-fc50-4bc9-9863-63d38088fef5"
      },
      "execution_count": 20,
      "outputs": [
        {
          "output_type": "stream",
          "name": "stdout",
          "text": [
            "Digite seu nome de usuario: igorelder\n",
            "Digite sua senha:55662233\n",
            "Cadastro realizado com sucesso\n"
          ]
        }
      ]
    },
    {
      "cell_type": "code",
      "source": [],
      "metadata": {
        "id": "gOsbpz_V-VCm"
      },
      "execution_count": null,
      "outputs": []
    }
  ]
}